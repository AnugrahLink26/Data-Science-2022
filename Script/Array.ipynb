{
  "nbformat": 4,
  "nbformat_minor": 0,
  "metadata": {
    "colab": {
      "name": "Array.ipynb",
      "provenance": []
    },
    "kernelspec": {
      "name": "python3",
      "display_name": "Python 3"
    },
    "language_info": {
      "name": "python"
    }
  },
  "cells": [
    {
      "cell_type": "code",
      "execution_count": null,
      "metadata": {
        "id": "J3YPepJ6Xc6X"
      },
      "outputs": [],
      "source": [
        "list_bilangan_ganjil = [3,1,9,7,5]"
      ]
    },
    {
      "cell_type": "code",
      "source": [
        "list_bilangan_ganjil"
      ],
      "metadata": {
        "colab": {
          "base_uri": "https://localhost:8080/"
        },
        "id": "s0mAg2b3XhOS",
        "outputId": "cb522350-1160-44d4-8cfd-d2ee803d2a75"
      },
      "execution_count": null,
      "outputs": [
        {
          "output_type": "execute_result",
          "data": {
            "text/plain": [
              "[1, 3, 5, 7, 9]"
            ]
          },
          "metadata": {},
          "execution_count": 34
        }
      ]
    },
    {
      "cell_type": "code",
      "source": [
        "# Append -> tambah value baru pada akhir list\n",
        "list_bilangan_ganjil.append(11)"
      ],
      "metadata": {
        "id": "ti46gT_dXiKz"
      },
      "execution_count": null,
      "outputs": []
    },
    {
      "cell_type": "code",
      "source": [
        ""
      ],
      "metadata": {
        "id": "1RL59v1ssQ7A"
      },
      "execution_count": null,
      "outputs": []
    },
    {
      "cell_type": "code",
      "source": [
        "# for i in list_bilangan_ganjil:\n",
        "#   print(list_bilangan_ganjil.pop())\n",
        "\n",
        "# list_bilangan_ganjil -> 5 item\n",
        "# list_bilangan_ganjil -> 4 item\n",
        "# list_bilangan_ganjil -> 3 item"
      ],
      "metadata": {
        "colab": {
          "base_uri": "https://localhost:8080/"
        },
        "id": "XbcerXghsWf0",
        "outputId": "efa5d6dd-f2ec-4210-a7bf-9978f90e0afc"
      },
      "execution_count": null,
      "outputs": [
        {
          "output_type": "stream",
          "name": "stdout",
          "text": [
            "9\n",
            "5\n"
          ]
        }
      ]
    },
    {
      "cell_type": "code",
      "source": [
        "for i in range(0, len(list_bilangan_ganjil)):\n",
        "  list_bilangan_ganjil.pop()"
      ],
      "metadata": {
        "id": "UOOOw-92sjbW"
      },
      "execution_count": null,
      "outputs": []
    },
    {
      "cell_type": "code",
      "source": [
        "list_bilangan_ganjil.clear()"
      ],
      "metadata": {
        "colab": {
          "base_uri": "https://localhost:8080/"
        },
        "id": "VkVh4uZssrxI",
        "outputId": "7970cacf-7a38-4ad2-8224-2bb942ec95d3"
      },
      "execution_count": null,
      "outputs": [
        {
          "output_type": "execute_result",
          "data": {
            "text/plain": [
              "0"
            ]
          },
          "metadata": {},
          "execution_count": 31
        }
      ]
    },
    {
      "cell_type": "code",
      "source": [
        "list_bilangan_ganjil_2 = list_bilangan_ganjil.copy()"
      ],
      "metadata": {
        "id": "5didspyKtMfp"
      },
      "execution_count": null,
      "outputs": []
    },
    {
      "cell_type": "code",
      "source": [
        "# list_bilangan_ganjil_2 \n",
        "# memory location berbeda dengan list_bilangan_ganjil"
      ],
      "metadata": {
        "colab": {
          "base_uri": "https://localhost:8080/"
        },
        "id": "cNTSdDodtTtL",
        "outputId": "264abf3c-bfcb-4f47-a72b-f57c8ae54885"
      },
      "execution_count": null,
      "outputs": [
        {
          "output_type": "execute_result",
          "data": {
            "text/plain": [
              "[1, 3, 5, 7, 9]"
            ]
          },
          "metadata": {},
          "execution_count": 43
        }
      ]
    },
    {
      "cell_type": "code",
      "source": [
        "list_bilangan_ganjil_new = list_bilangan_ganjil"
      ],
      "metadata": {
        "id": "8Ubum88Vt1xz"
      },
      "execution_count": null,
      "outputs": []
    },
    {
      "cell_type": "code",
      "source": [
        "list_bilangan_ganjil_new"
      ],
      "metadata": {
        "colab": {
          "base_uri": "https://localhost:8080/"
        },
        "id": "IG8ZZYbZt6u_",
        "outputId": "cfa0a2ac-e0b9-47b6-84f7-82d35532d90d"
      },
      "execution_count": null,
      "outputs": [
        {
          "output_type": "execute_result",
          "data": {
            "text/plain": [
              "[1, 3, 5, 7, 9]"
            ]
          },
          "metadata": {},
          "execution_count": 38
        }
      ]
    },
    {
      "cell_type": "code",
      "source": [
        "list_bilangan_ganjil"
      ],
      "metadata": {
        "colab": {
          "base_uri": "https://localhost:8080/"
        },
        "id": "kQz04Tbjt7qj",
        "outputId": "16156547-7ba3-49a6-fa28-d1c1d750542e"
      },
      "execution_count": null,
      "outputs": [
        {
          "output_type": "execute_result",
          "data": {
            "text/plain": [
              "[1, 3, 5, 7, 9]"
            ]
          },
          "metadata": {},
          "execution_count": 39
        }
      ]
    },
    {
      "cell_type": "code",
      "source": [
        "list_bilangan_ganjil[0] = 0"
      ],
      "metadata": {
        "id": "n5_6nkZht8mH"
      },
      "execution_count": null,
      "outputs": []
    },
    {
      "cell_type": "code",
      "source": [
        "list_bilangan_ganjil"
      ],
      "metadata": {
        "colab": {
          "base_uri": "https://localhost:8080/"
        },
        "id": "nYN3rpX8t_T8",
        "outputId": "d6ddb2cb-77d1-4a51-8108-36f63f356f33"
      },
      "execution_count": null,
      "outputs": [
        {
          "output_type": "execute_result",
          "data": {
            "text/plain": [
              "[0, 3, 5, 7, 9]"
            ]
          },
          "metadata": {},
          "execution_count": 41
        }
      ]
    },
    {
      "cell_type": "code",
      "source": [
        "list_bilangan_ganjil_new"
      ],
      "metadata": {
        "colab": {
          "base_uri": "https://localhost:8080/"
        },
        "id": "V2q30XEhuALz",
        "outputId": "de9712cc-a4b2-4f2d-fb97-636d49a250bb"
      },
      "execution_count": null,
      "outputs": [
        {
          "output_type": "execute_result",
          "data": {
            "text/plain": [
              "[0, 3, 5, 7, 9]"
            ]
          },
          "metadata": {},
          "execution_count": 42
        }
      ]
    },
    {
      "cell_type": "code",
      "source": [
        "# memory locations"
      ],
      "metadata": {
        "id": "-Tqa6rsJuBSI"
      },
      "execution_count": null,
      "outputs": []
    },
    {
      "cell_type": "code",
      "source": [
        "case_count = [1,3,5,7,9,9,11]"
      ],
      "metadata": {
        "id": "cnWF_A_Nuwq_"
      },
      "execution_count": null,
      "outputs": []
    },
    {
      "cell_type": "code",
      "source": [
        "case_count.count(10)"
      ],
      "metadata": {
        "colab": {
          "base_uri": "https://localhost:8080/"
        },
        "id": "muYeJP2LuqRD",
        "outputId": "afbd63f3-c646-4deb-b62d-ae38bea29cee"
      },
      "execution_count": null,
      "outputs": [
        {
          "output_type": "execute_result",
          "data": {
            "text/plain": [
              "0"
            ]
          },
          "metadata": {},
          "execution_count": 48
        }
      ]
    },
    {
      "cell_type": "code",
      "source": [
        "# if child is 6 years old\n",
        "# flag as fraud\n",
        "# can use .count() method"
      ],
      "metadata": {
        "id": "HvndyrRHusQS"
      },
      "execution_count": null,
      "outputs": []
    },
    {
      "cell_type": "code",
      "source": [
        "# plot graphik umur anak, hitung berapa yang fraud\n",
        "# if child is more than 10 years old"
      ],
      "metadata": {
        "id": "Bvdy0qK1vML3"
      },
      "execution_count": null,
      "outputs": []
    },
    {
      "cell_type": "code",
      "source": [
        "fruits = ['apple', 'banana', 'cherry']\n",
        "tropical_fruit = ['mango', 'avocado']\n",
        "fruits.extend(tropical_fruit)"
      ],
      "metadata": {
        "id": "2PBCY6kjwAmR"
      },
      "execution_count": null,
      "outputs": []
    },
    {
      "cell_type": "code",
      "source": [
        "fruits"
      ],
      "metadata": {
        "colab": {
          "base_uri": "https://localhost:8080/"
        },
        "id": "6q-jcgG3wRtk",
        "outputId": "9745cf9b-ef40-4fde-f611-1583096601d1"
      },
      "execution_count": null,
      "outputs": [
        {
          "output_type": "execute_result",
          "data": {
            "text/plain": [
              "['apple', 'banana', 'cherry', 'mango', 'avocado']"
            ]
          },
          "metadata": {},
          "execution_count": 60
        }
      ]
    },
    {
      "cell_type": "code",
      "source": [
        "fruits.index('banana')"
      ],
      "metadata": {
        "colab": {
          "base_uri": "https://localhost:8080/"
        },
        "id": "5gy1KX7wwSm_",
        "outputId": "ad2e65f6-7f5f-46a7-a298-0a04c6168bdc"
      },
      "execution_count": null,
      "outputs": [
        {
          "output_type": "execute_result",
          "data": {
            "text/plain": [
              "1"
            ]
          },
          "metadata": {},
          "execution_count": 62
        }
      ]
    },
    {
      "cell_type": "code",
      "source": [
        "# insert\n",
        "fruits.insert(1, 'orange')"
      ],
      "metadata": {
        "id": "N0mMrvG4weUm"
      },
      "execution_count": null,
      "outputs": []
    },
    {
      "cell_type": "code",
      "source": [
        "fruits.pop()"
      ],
      "metadata": {
        "colab": {
          "base_uri": "https://localhost:8080/",
          "height": 35
        },
        "id": "DZuHVVQHwnws",
        "outputId": "b8de5b90-200b-41c9-9864-96f6750eb0f2"
      },
      "execution_count": null,
      "outputs": [
        {
          "output_type": "execute_result",
          "data": {
            "application/vnd.google.colaboratory.intrinsic+json": {
              "type": "string"
            },
            "text/plain": [
              "'avocado'"
            ]
          },
          "metadata": {},
          "execution_count": 65
        }
      ]
    },
    {
      "cell_type": "code",
      "source": [
        "fruits.remove(\"orange\")"
      ],
      "metadata": {
        "id": "2RBcGRwFwo7T"
      },
      "execution_count": null,
      "outputs": []
    },
    {
      "cell_type": "code",
      "source": [
        "fruits.reverse()"
      ],
      "metadata": {
        "id": "xNFV7ON_w329"
      },
      "execution_count": null,
      "outputs": []
    },
    {
      "cell_type": "code",
      "source": [
        "fruits[-1]"
      ],
      "metadata": {
        "colab": {
          "base_uri": "https://localhost:8080/"
        },
        "id": "j6GQP9qOw4vy",
        "outputId": "6a3c44eb-df12-4806-9eb9-36a36ce55ee2"
      },
      "execution_count": null,
      "outputs": [
        {
          "output_type": "execute_result",
          "data": {
            "text/plain": [
              "['mango', 'cherry', 'banana', 'apple']"
            ]
          },
          "metadata": {},
          "execution_count": 69
        }
      ]
    },
    {
      "cell_type": "code",
      "source": [
        "# l[-4]    l[-3]     l[-2]    l[-1]"
      ],
      "metadata": {
        "id": "XhlQswiww-kP"
      },
      "execution_count": null,
      "outputs": []
    },
    {
      "cell_type": "code",
      "source": [
        "fruits.sort()"
      ],
      "metadata": {
        "id": "9iohdA_WxZIe"
      },
      "execution_count": null,
      "outputs": []
    },
    {
      "cell_type": "code",
      "source": [
        "fruits"
      ],
      "metadata": {
        "colab": {
          "base_uri": "https://localhost:8080/"
        },
        "id": "HIEsmniaxZML",
        "outputId": "ded91cfd-f46f-4c7f-df2a-1f9b43c57073"
      },
      "execution_count": null,
      "outputs": [
        {
          "output_type": "execute_result",
          "data": {
            "text/plain": [
              "['apple', 'banana', 'cherry', 'mango']"
            ]
          },
          "metadata": {},
          "execution_count": 71
        }
      ]
    },
    {
      "cell_type": "code",
      "source": [
        "list_bilangan_ganjil.sort()"
      ],
      "metadata": {
        "id": "VYsl-pCIxa6F"
      },
      "execution_count": null,
      "outputs": []
    },
    {
      "cell_type": "code",
      "source": [
        "list_bilangan_ganjil.sort(reverse=True)"
      ],
      "metadata": {
        "id": "ibRLKAFBxhJT"
      },
      "execution_count": null,
      "outputs": []
    },
    {
      "cell_type": "code",
      "source": [
        "list_bilangan_ganjil"
      ],
      "metadata": {
        "colab": {
          "base_uri": "https://localhost:8080/"
        },
        "id": "FDn0Rk4sxiW1",
        "outputId": "591e80c0-f511-4269-afd5-7da57967e9f3"
      },
      "execution_count": null,
      "outputs": [
        {
          "output_type": "execute_result",
          "data": {
            "text/plain": [
              "[9, 7, 5, 3, 1]"
            ]
          },
          "metadata": {},
          "execution_count": 76
        }
      ]
    },
    {
      "cell_type": "code",
      "source": [
        "# print bilangan fibbonaci yang kurang dari 50 \n",
        "# yang juga merupakan bilangan ganjil [1-50]\n",
        "\n",
        "# 1,1,2,3,5,8,13,21 -> fibbonaci\n",
        "# 1,3,5,7,9, dst\n",
        "\n",
        "# expected output -> 1,1,3,5,13,21, dst"
      ],
      "metadata": {
        "id": "t0kA8GpUx1l4"
      },
      "execution_count": null,
      "outputs": []
    },
    {
      "cell_type": "code",
      "source": [
        "# buat logic print bilangan fibonacci\n",
        "# filter (apakah dia % 2 == 0 (indicates -> ganjil atau genap))"
      ],
      "metadata": {
        "id": "dT37q50g0OcF"
      },
      "execution_count": null,
      "outputs": []
    },
    {
      "cell_type": "code",
      "source": [
        "a = 0\n",
        "b = 1\n",
        "c = 0\n",
        "\n",
        "while c <= 50:\n",
        "  c = a + b\n",
        "  a = b\n",
        "  b = c\n",
        "  if a % 2 != 0:\n",
        "    print(a)"
      ],
      "metadata": {
        "colab": {
          "base_uri": "https://localhost:8080/"
        },
        "id": "QZFA3BZg0wn-",
        "outputId": "540dca0c-ac21-4362-bda2-9cdadeb0a845"
      },
      "execution_count": null,
      "outputs": [
        {
          "output_type": "stream",
          "name": "stdout",
          "text": [
            "1\n",
            "1\n",
            "3\n",
            "5\n",
            "13\n",
            "21\n"
          ]
        }
      ]
    },
    {
      "cell_type": "code",
      "source": [
        "list_bilangan_ganjil = []\n",
        "for i in range(0,50):\n",
        "  if i % 2 != 0:\n",
        "    list_bilangan_ganjil.append(i)"
      ],
      "metadata": {
        "id": "9iBlvvZz0-7W"
      },
      "execution_count": null,
      "outputs": []
    },
    {
      "cell_type": "code",
      "source": [
        "a = 0\n",
        "b = 1\n",
        "c = 0\n",
        "list_fibbonaci_odd_below_50 = []\n",
        "while c <= 50:\n",
        "  c = a + b\n",
        "  a = b\n",
        "  b = c\n",
        "  if a in list_bilangan_ganjil:\n",
        "    list_fibbonaci_odd_below_50.append(a)\n",
        "    print(a)"
      ],
      "metadata": {
        "colab": {
          "base_uri": "https://localhost:8080/"
        },
        "id": "QIHd6M3t1amo",
        "outputId": "b7df97ba-5592-474d-a058-668f20b915f2"
      },
      "execution_count": null,
      "outputs": [
        {
          "output_type": "stream",
          "name": "stdout",
          "text": [
            "1\n",
            "1\n",
            "3\n",
            "5\n",
            "13\n",
            "21\n"
          ]
        }
      ]
    },
    {
      "cell_type": "code",
      "source": [
        "list_fibbonaci_odd_below_50\n",
        "# print bilangan fibonacci dan ganjil terakhir *below 50\n",
        "\n",
        "list_fibbonaci_odd_below_50[-1]"
      ],
      "metadata": {
        "colab": {
          "base_uri": "https://localhost:8080/"
        },
        "id": "edaO_F_a2E55",
        "outputId": "9085c93b-9ac9-48c8-d40a-c78c99d48660"
      },
      "execution_count": null,
      "outputs": [
        {
          "output_type": "execute_result",
          "data": {
            "text/plain": [
              "21"
            ]
          },
          "metadata": {},
          "execution_count": 93
        }
      ]
    },
    {
      "cell_type": "code",
      "source": [
        "if 2 in list_bilangan_ganjil:\n",
        "  print(True)\n",
        "else:\n",
        "  print(False)"
      ],
      "metadata": {
        "colab": {
          "base_uri": "https://localhost:8080/"
        },
        "id": "y8JFfJaO1rJY",
        "outputId": "796fc597-8e19-4282-d9e2-2d2597aeb5c8"
      },
      "execution_count": null,
      "outputs": [
        {
          "output_type": "stream",
          "name": "stdout",
          "text": [
            "False\n"
          ]
        }
      ]
    },
    {
      "cell_type": "code",
      "source": [
        "# Class - List\n",
        "# method\n",
        "# properties\n",
        "# OOP - object oriented programming"
      ],
      "metadata": {
        "id": "K9Lgu7Dv1btJ"
      },
      "execution_count": null,
      "outputs": []
    },
    {
      "cell_type": "code",
      "source": [
        "# \n",
        "\n",
        "jenis_kelamin = ({'English': 'Male',\n",
        "                  'Indonesian': 'Laki-laki'}, \n",
        "                 {'English': 'Female',\n",
        "                  'Indonesian': 'Perempuan'})\n",
        "\n",
        "# Tuples -> Safe\n",
        "\n",
        "# Perubahan -> Code Review -> Test -> Deployment\n",
        "daftar_negara = ()"
      ],
      "metadata": {
        "id": "DjTCF8C42vgd"
      },
      "execution_count": null,
      "outputs": []
    },
    {
      "cell_type": "code",
      "source": [
        "jenis_kelamin[0] = {'English': 'Male', 'Indonesian': 'Laki2'}"
      ],
      "metadata": {
        "colab": {
          "base_uri": "https://localhost:8080/",
          "height": 165
        },
        "id": "GKGPIJZT3OTY",
        "outputId": "1e059404-0e70-472d-ed3e-c8806a3f0ac0"
      },
      "execution_count": null,
      "outputs": [
        {
          "output_type": "error",
          "ename": "TypeError",
          "evalue": "ignored",
          "traceback": [
            "\u001b[0;31m---------------------------------------------------------------------------\u001b[0m",
            "\u001b[0;31mTypeError\u001b[0m                                 Traceback (most recent call last)",
            "\u001b[0;32m<ipython-input-97-0343620d9b24>\u001b[0m in \u001b[0;36m<module>\u001b[0;34m()\u001b[0m\n\u001b[0;32m----> 1\u001b[0;31m \u001b[0mjenis_kelamin\u001b[0m\u001b[0;34m[\u001b[0m\u001b[0;36m0\u001b[0m\u001b[0;34m]\u001b[0m \u001b[0;34m=\u001b[0m \u001b[0;34m{\u001b[0m\u001b[0;34m'English'\u001b[0m\u001b[0;34m:\u001b[0m \u001b[0;34m'Male'\u001b[0m\u001b[0;34m,\u001b[0m \u001b[0;34m'Indonesian'\u001b[0m\u001b[0;34m:\u001b[0m \u001b[0;34m'Laki2'\u001b[0m\u001b[0;34m}\u001b[0m\u001b[0;34m\u001b[0m\u001b[0;34m\u001b[0m\u001b[0m\n\u001b[0m",
            "\u001b[0;31mTypeError\u001b[0m: 'tuple' object does not support item assignment"
          ]
        }
      ]
    },
    {
      "cell_type": "code",
      "source": [
        "behaviour_transaksi_user = [{\n",
        "    'name': 'Krian',\n",
        "    'platfrom': 'Web',\n",
        "    'transaksi': [{\n",
        "        'product_name': 'Sabun Mandi',\n",
        "        'product_price': 5000,\n",
        "        'product_qty': 3,\n",
        "        'product_category': 'Alat Mandi'\n",
        "      },\n",
        "      {\n",
        "        'product_name': 'Sikat Gigi',\n",
        "        'product_price': 8000,\n",
        "        'product_qty': 10,\n",
        "        'product_category': 'Alat Mandi'\n",
        "      },\n",
        "      {\n",
        "        'product_name': 'Handphone',\n",
        "        'product_price': 10000000,\n",
        "        'product_qty': 100,\n",
        "        'product_category': 'Alat Mandi'\n",
        "      }]\n",
        "},\n",
        "{\n",
        "    'name': 'Bayu',\n",
        "    'platfrom': 'Mobile',\n",
        "    'transaksi': [{\n",
        "        'product_name': 'Shampoo',\n",
        "        'product_price': 10000,\n",
        "        'product_qty': 2,\n",
        "        'product_category': 'Alat Mandi'\n",
        "      }]\n",
        "}]\n",
        "\n"
      ],
      "metadata": {
        "id": "TwZdsTB73RSe"
      },
      "execution_count": null,
      "outputs": []
    },
    {
      "cell_type": "code",
      "source": [
        "behaviour_transaksi_user[0]['transaksi']"
      ],
      "metadata": {
        "colab": {
          "base_uri": "https://localhost:8080/"
        },
        "id": "0lZPgh9t4eYf",
        "outputId": "47b4a1db-2c98-4581-db91-d10123840692"
      },
      "execution_count": null,
      "outputs": [
        {
          "output_type": "execute_result",
          "data": {
            "text/plain": [
              "[{'product_category': 'Alat Mandi',\n",
              "  'product_name': 'Sabun Mandi',\n",
              "  'product_price': 5000,\n",
              "  'product_qty': 3},\n",
              " {'product_category': 'Alat Mandi',\n",
              "  'product_name': 'Sikat Gigi',\n",
              "  'product_price': 8000,\n",
              "  'product_qty': 10},\n",
              " {'product_category': 'Alat Mandi',\n",
              "  'product_name': 'Handphone',\n",
              "  'product_price': 10000000,\n",
              "  'product_qty': 100}]"
            ]
          },
          "metadata": {},
          "execution_count": 105
        }
      ]
    },
    {
      "cell_type": "code",
      "source": [
        "# Total Belanja\n",
        "total_belanja_fraudster = []\n",
        "total_belanja_per_user = 0\n",
        "for item_belanja in behaviour_transaksi_user[0]['transaksi']:\n",
        "  total_belanja_per_user += item_belanja['product_price'] * item_belanja['product_qty'] # x += 1 -> x = x+1\n",
        "\n",
        "total_belanja_fraudster.append(total_belanja_per_user)\n",
        "  # print(item_belanja['product_price'] * item_belanja['product_qty'])"
      ],
      "metadata": {
        "id": "MNWJwGDI4jLq"
      },
      "execution_count": null,
      "outputs": []
    },
    {
      "cell_type": "code",
      "source": [
        "total_belanja_fraudster\n",
        "# misalkan 90% dari user yang belanja > 100 juta adalah fraud\n",
        "# maka kita bisa consider menggunakan feature / variable bebas berupa total_belanja"
      ],
      "metadata": {
        "colab": {
          "base_uri": "https://localhost:8080/"
        },
        "id": "eApgXIJw5FKP",
        "outputId": "427660d2-5f85-492d-af56-88b3a92bf468"
      },
      "execution_count": null,
      "outputs": [
        {
          "output_type": "execute_result",
          "data": {
            "text/plain": [
              "[1000095000]"
            ]
          },
          "metadata": {},
          "execution_count": 112
        }
      ]
    },
    {
      "cell_type": "code",
      "source": [
        "import pandas as pd\n",
        "\n",
        "data = [['Sikat Gigi', 18, 11000], ['Shampoo', 15, 20000], ['Sabun Mandi', 20, 8000]]\n",
        "\n",
        "df = pd.DataFrame(data)\n",
        "# df.rename(columns={\"0\": \"Nama Produk\", \"1\": \"Qty\", \"2\": \"Harga\"}, inplace=True)\n",
        "# print(df.sum())\n",
        "# nama barang, qty, harga\n",
        "df.columns = ['Product Name', 'Qty', 'Price']"
      ],
      "metadata": {
        "id": "InWa4fBd5mgZ"
      },
      "execution_count": null,
      "outputs": []
    },
    {
      "cell_type": "code",
      "source": [
        "print(df)\n",
        "\n",
        "# list -> pandas : doable\n",
        "# pandas -> list : doable"
      ],
      "metadata": {
        "colab": {
          "base_uri": "https://localhost:8080/"
        },
        "id": "beTGSE6C6Cp7",
        "outputId": "7fa89ff7-95f2-436f-b2a0-082f8ec16c3e"
      },
      "execution_count": null,
      "outputs": [
        {
          "output_type": "stream",
          "name": "stdout",
          "text": [
            "  Product Name  Qty  Price\n",
            "0   Sikat Gigi   18  11000\n",
            "1      Shampoo   15  20000\n",
            "2  Sabun Mandi   20   8000\n"
          ]
        }
      ]
    },
    {
      "cell_type": "code",
      "source": [
        "# df[['Qty']].sum()\n",
        "# df[['Qty']].mean()\n",
        "df[['Price']].sum().values[0] * df[['Qty']].sum().values[0]\n",
        "# df[['Qty']].sum()\n"
      ],
      "metadata": {
        "colab": {
          "base_uri": "https://localhost:8080/"
        },
        "id": "F-BXS9ek6EHU",
        "outputId": "326e0fc8-b8c4-4f41-c6cd-52675011cc9f"
      },
      "execution_count": null,
      "outputs": [
        {
          "output_type": "execute_result",
          "data": {
            "text/plain": [
              "2067000"
            ]
          },
          "metadata": {},
          "execution_count": 151
        }
      ]
    },
    {
      "cell_type": "code",
      "source": [
        "without_pandas = [['Sikat Gigi', 18, 11000], ['Shampoo', 15, 20000], ['Sabun Mandi', 20, 8000]]\n",
        "\n",
        "# total QTY\n",
        "total_qty = 0\n",
        "for i in without_pandas:\n",
        "  # print(i[1])\n",
        "  total_qty += i[1]\n",
        "\n",
        "print(total_qty)"
      ],
      "metadata": {
        "colab": {
          "base_uri": "https://localhost:8080/"
        },
        "id": "esVDI2Ew63ln",
        "outputId": "71b85750-c82d-4351-e650-da15b1309dd7"
      },
      "execution_count": null,
      "outputs": [
        {
          "output_type": "stream",
          "name": "stdout",
          "text": [
            "53\n"
          ]
        }
      ]
    },
    {
      "cell_type": "code",
      "source": [
        "# print bilangan fibbonaci 1-20 yang juga merupakan bilangan prima\n",
        "a = 0\n",
        "b = 1\n",
        "c = 0\n",
        "\n",
        "list_bilangan_fibonacci = []\n",
        "while c <= 20:\n",
        "  c = a + b\n",
        "  a = b\n",
        "  b = c\n",
        "  list_bilangan_fibonacci.append(a)\n"
      ],
      "metadata": {
        "id": "XP0G4BA38ZV-"
      },
      "execution_count": null,
      "outputs": []
    },
    {
      "cell_type": "code",
      "source": [
        "list_bilangan_fibonacci"
      ],
      "metadata": {
        "colab": {
          "base_uri": "https://localhost:8080/"
        },
        "id": "mjAeY8ul_LgQ",
        "outputId": "7e4c9237-3c67-4aa2-9a19-f92c0da8e531"
      },
      "execution_count": null,
      "outputs": [
        {
          "output_type": "execute_result",
          "data": {
            "text/plain": [
              "[1, 1, 2, 3, 5, 8, 13]"
            ]
          },
          "metadata": {},
          "execution_count": 159
        }
      ]
    },
    {
      "cell_type": "code",
      "source": [
        "list_bilangan_prima = []\n",
        "counter_prima = 0\n",
        "for i in range(1,20):\n",
        "  for j in range(1, i+1):\n",
        "    if i % j == 0:\n",
        "      counter_prima += 1\n",
        "  # print(i, 'counter_prima: ', counter_prima)\n",
        "  if counter_prima == 2:\n",
        "    # print(True)\n",
        "    list_bilangan_prima.append(i)\n",
        "  counter_prima = 0"
      ],
      "metadata": {
        "id": "qjhsWFbZ_NkF"
      },
      "execution_count": null,
      "outputs": []
    },
    {
      "cell_type": "code",
      "source": [
        "iterasi i saat 5\n",
        "iterasi j dari 1 - 5\n",
        "\n",
        "i % j \n",
        "1 -> counter_prima = 1\n",
        "2 -> counter_prima = 1\n",
        "3 -> counter_prima = 1\n",
        "4 -> counter_prima = 1\n",
        "5 -> counter_prima += 1 -> counter_prima = 2\n",
        "di append ke list_bilangan_prima\n",
        "\n",
        "iterasi i saat 6\n",
        "iterasi j dari 1 - 6\n",
        "\n",
        "i % j \n",
        "1 -> counter_prima = 1\n",
        "2 -> counter_prima = 2\n",
        "3 -> counter_prima = 3\n",
        "4 -> counter_prima = 3\n",
        "5 -> counter_prima = 3\n",
        "6 -> counter_prima = 4\n",
        "tidak di append"
      ],
      "metadata": {
        "id": "D57zXHuLB1NJ"
      },
      "execution_count": null,
      "outputs": []
    },
    {
      "cell_type": "code",
      "source": [
        "list_bilangan_prima"
      ],
      "metadata": {
        "colab": {
          "base_uri": "https://localhost:8080/"
        },
        "id": "runVKM5QAEI2",
        "outputId": "cd5df2c1-1a57-4dcb-80ae-c5246c241648"
      },
      "execution_count": null,
      "outputs": [
        {
          "output_type": "execute_result",
          "data": {
            "text/plain": [
              "[2, 3, 5, 7, 11, 13, 17, 19]"
            ]
          },
          "metadata": {},
          "execution_count": 169
        }
      ]
    },
    {
      "cell_type": "code",
      "source": [
        "prime = list()\n",
        "for i in list_bilangan_fibonacci: # fibo udah dibuat di atas\n",
        "  if i >= 2:\n",
        "    n = i\n",
        "  else:\n",
        "    continue\n",
        "\n",
        "  prime_flag = True\n",
        "  for j in range(2, n):\n",
        "    if (n % j == 0) and (prime_flag == True) :\n",
        "      prime_flag = False\n",
        "\n",
        "  if prime_flag:\n",
        "    prime.append(n)\n",
        "\n",
        "prime\n"
      ],
      "metadata": {
        "colab": {
          "base_uri": "https://localhost:8080/"
        },
        "id": "WJlJF6sOAIY6",
        "outputId": "4c395955-15cb-447e-a2b8-c8dbe0418d59"
      },
      "execution_count": null,
      "outputs": [
        {
          "output_type": "execute_result",
          "data": {
            "text/plain": [
              "[2, 3, 5, 13]"
            ]
          },
          "metadata": {},
          "execution_count": 171
        }
      ]
    },
    {
      "cell_type": "code",
      "source": [
        "list_bilangan_fibo_prima = []\n",
        "\n",
        "for i in list_bilangan_fibonacci:\n",
        "  if i in list_bilangan_prima:\n",
        "    list_bilangan_fibo_prima.append(i)\n",
        "list_bilangan_fibo_prima"
      ],
      "metadata": {
        "colab": {
          "base_uri": "https://localhost:8080/"
        },
        "id": "Vl6oDilJBDG0",
        "outputId": "affc8bdd-eeaa-4eff-ef1c-b70f34a8e02e"
      },
      "execution_count": null,
      "outputs": [
        {
          "output_type": "execute_result",
          "data": {
            "text/plain": [
              "[2, 3, 5, 13]"
            ]
          },
          "metadata": {},
          "execution_count": 174
        }
      ]
    },
    {
      "cell_type": "code",
      "source": [
        "n1, n2 = 0, 1\n",
        "n_prime = 50\n",
        "list_fibonacci_prime = []\n",
        "while(n1 <= n_prime):\n",
        "    count = 0\n",
        "    i = 2\n",
        "    while(i <= n1//2):\n",
        "        if(n1 % i == 0):\n",
        "            count += 1\n",
        "            break\n",
        "        i += 1\n",
        "    if (count == 0 and n1!= 1 and n1!=0):\n",
        "        list_fibonacci_prime.append(n1)\n",
        "    fibonacci = n1 + n2\n",
        "    n1 = n2\n",
        "    n2 = fibonacci\n",
        "print(list_fibonacci_prime)\n"
      ],
      "metadata": {
        "id": "QI8Zq4YOCnve"
      },
      "execution_count": null,
      "outputs": []
    }
  ]
}