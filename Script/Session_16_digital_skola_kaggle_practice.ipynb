{
  "metadata": {
    "kernelspec": {
      "language": "python",
      "display_name": "Python 3",
      "name": "python3"
    },
    "language_info": {
      "name": "python",
      "version": "3.7.12",
      "mimetype": "text/x-python",
      "codemirror_mode": {
        "name": "ipython",
        "version": 3
      },
      "pygments_lexer": "ipython3",
      "nbconvert_exporter": "python",
      "file_extension": ".py"
    },
    "colab": {
      "name": "Session 16 - digital-skola-kaggle-practice.ipynb",
      "provenance": []
    }
  },
  "nbformat_minor": 0,
  "nbformat": 4,
  "cells": [
    {
      "cell_type": "code",
      "source": [
        "# This Python 3 environment comes with many helpful analytics libraries installed\n",
        "# It is defined by the kaggle/python Docker image: https://github.com/kaggle/docker-python\n",
        "# For example, here's several helpful packages to load\n",
        "\n",
        "import numpy as np # linear algebra\n",
        "import pandas as pd # data processing, CSV file I/O (e.g. pd.read_csv)\n",
        "\n",
        "# Input data files are available in the read-only \"../input/\" directory\n",
        "# For example, running this (by clicking run or pressing Shift+Enter) will list all files under the input directory\n",
        "\n",
        "import os\n",
        "for dirname, _, filenames in os.walk('/kaggle/input'):\n",
        "    for filename in filenames:\n",
        "        print(os.path.join(dirname, filename))\n",
        "\n",
        "# You can write up to 20GB to the current directory (/kaggle/working/) that gets preserved as output when you create a version using \"Save & Run All\" \n",
        "# You can also write temporary files to /kaggle/temp/, but they won't be saved outside of the current session"
      ],
      "metadata": {
        "_uuid": "8f2839f25d086af736a60e9eeb907d3b93b6e0e5",
        "_cell_guid": "b1076dfc-b9ad-4769-8c92-a6c4dae69d19",
        "trusted": true,
        "id": "ymyzHJBdCGGQ"
      },
      "execution_count": null,
      "outputs": []
    },
    {
      "cell_type": "markdown",
      "source": [
        "# Kaggle Practice - Digital Skola Batch 11\n",
        "\n",
        "by: Ari Sulistiyo Prabowo\n",
        "____\n",
        "\n",
        "**Contents:**\n",
        "- Data Preparation \n",
        "    - Reading dataset\n",
        "    - Check any null values\n",
        "    - Check data type in each columns\n",
        "- Data Cleansing\n",
        "    - Handling null values\n",
        "    - Delete any duplicate values\n",
        "    - Change the data type if there is any wrong data type\n",
        "- Exploratory Data Analysis\n",
        "    - Show the distribution in each columns\n",
        "        - add mean, median, mode in each columns (untuk liat skewness/kemiringan)\n",
        "    "
      ],
      "metadata": {
        "id": "P5EqZu85CGGZ"
      }
    },
    {
      "cell_type": "markdown",
      "source": [
        "## Data Preparation"
      ],
      "metadata": {
        "id": "ZuB-PrkYCGGd"
      }
    },
    {
      "cell_type": "code",
      "source": [
        "# import library\n",
        "import pandas as pd\n",
        "import numpy as np\n",
        "\n",
        "# import visualization library\n",
        "import matplotlib.pyplot as plt\n",
        "import seaborn as sns"
      ],
      "metadata": {
        "execution": {
          "iopub.status.busy": "2022-02-07T13:46:02.830071Z",
          "iopub.execute_input": "2022-02-07T13:46:02.830396Z",
          "iopub.status.idle": "2022-02-07T13:46:03.931865Z",
          "shell.execute_reply.started": "2022-02-07T13:46:02.830359Z",
          "shell.execute_reply": "2022-02-07T13:46:03.930907Z"
        },
        "trusted": true,
        "id": "yDYyZ1taCGGf"
      },
      "execution_count": null,
      "outputs": []
    },
    {
      "cell_type": "code",
      "source": [
        "# reading dataset\n",
        "data = pd.read_csv(\"../input/water-potability/water_potability.csv\")\n",
        "data.head()"
      ],
      "metadata": {
        "execution": {
          "iopub.status.busy": "2022-02-07T13:14:48.049712Z",
          "iopub.execute_input": "2022-02-07T13:14:48.050277Z",
          "iopub.status.idle": "2022-02-07T13:14:48.128193Z",
          "shell.execute_reply.started": "2022-02-07T13:14:48.050239Z",
          "shell.execute_reply": "2022-02-07T13:14:48.127290Z"
        },
        "trusted": true,
        "id": "vcIyWAq9CGGh"
      },
      "execution_count": null,
      "outputs": []
    },
    {
      "cell_type": "code",
      "source": [
        "check_null = pd.DataFrame(data.dtypes).T.rename({0: \"Column Type\"})\n",
        "check_null = check_null.append(pd.DataFrame(data.isnull().sum()).T.rename({0:'Number of Null Values'}))\n",
        "check_null = check_null.append(pd.DataFrame(round(data.isnull().sum()/data.shape[0]*100)).T.rename({0:\"Percentage of Null Values\"}))\n",
        "check_null"
      ],
      "metadata": {
        "trusted": true,
        "id": "oW3oEueECGGx"
      },
      "execution_count": null,
      "outputs": []
    },
    {
      "cell_type": "markdown",
      "source": [
        "There are null values in several columns such as:\n",
        "- pH (15%)\n",
        "- Sulfate (24%)\n",
        "- Trihalomethanes (5%)\n",
        "\n",
        "From this null values, we can do a data cleansing either to drop all null values or we fill null values with the certain conditions"
      ],
      "metadata": {
        "id": "oGkdlTNQCGGy"
      }
    },
    {
      "cell_type": "markdown",
      "source": [
        "## Data Cleansing"
      ],
      "metadata": {
        "id": "V2B1cfuPCGG0"
      }
    },
    {
      "cell_type": "code",
      "source": [
        "# Handling null values by dropping the null values\n",
        "data_v1 = data.dropna()\n",
        "data_v1.shape"
      ],
      "metadata": {
        "execution": {
          "iopub.status.busy": "2022-02-07T13:31:26.445783Z",
          "iopub.execute_input": "2022-02-07T13:31:26.446428Z",
          "iopub.status.idle": "2022-02-07T13:31:26.454069Z",
          "shell.execute_reply.started": "2022-02-07T13:31:26.446387Z",
          "shell.execute_reply": "2022-02-07T13:31:26.453251Z"
        },
        "trusted": true,
        "id": "x6rsY4iICGG1"
      },
      "execution_count": null,
      "outputs": []
    },
    {
      "cell_type": "code",
      "source": [
        "# Is there any duplicate values?\n",
        "data_v1 = data_v1.drop_duplicates()\n",
        "data_v1.shape"
      ],
      "metadata": {
        "execution": {
          "iopub.status.busy": "2022-02-07T13:36:00.486019Z",
          "iopub.execute_input": "2022-02-07T13:36:00.486547Z",
          "iopub.status.idle": "2022-02-07T13:36:00.496350Z",
          "shell.execute_reply.started": "2022-02-07T13:36:00.486510Z",
          "shell.execute_reply": "2022-02-07T13:36:00.495375Z"
        },
        "trusted": true,
        "id": "Hyk6iLsJCGG4"
      },
      "execution_count": null,
      "outputs": []
    },
    {
      "cell_type": "code",
      "source": [
        "# example to change the data type\n",
        "a = data_v1.copy()\n",
        "a['Potability'] = a['Potability'].astype(\"object\")\n",
        "a.info()"
      ],
      "metadata": {
        "execution": {
          "iopub.status.busy": "2022-02-07T13:40:38.713787Z",
          "iopub.execute_input": "2022-02-07T13:40:38.714630Z",
          "iopub.status.idle": "2022-02-07T13:40:38.727269Z",
          "shell.execute_reply.started": "2022-02-07T13:40:38.714592Z",
          "shell.execute_reply": "2022-02-07T13:40:38.726249Z"
        },
        "trusted": true,
        "id": "de9HkJTjCGG5"
      },
      "execution_count": null,
      "outputs": []
    },
    {
      "cell_type": "markdown",
      "source": [
        "In this data, we have new variable called **data_v1** which already dropped the null values and duplicate values. In terms of data type, there is no column that contains wrong data type"
      ],
      "metadata": {
        "id": "lnS_X9YKCGG6"
      }
    },
    {
      "cell_type": "markdown",
      "source": [
        "## Exploratory Data Analysis"
      ],
      "metadata": {
        "id": "cfwSmPEoCGG6"
      }
    },
    {
      "cell_type": "code",
      "source": [
        "# create function to visualize the data without new code\n",
        "def histogram(x):\n",
        "    \"\"\"\n",
        "    this function is to show the distribution of data\n",
        "    \"\"\"\n",
        "    plt.hist(data[x])\n",
        "    plt.show()"
      ],
      "metadata": {
        "execution": {
          "iopub.status.busy": "2022-02-07T13:50:16.886907Z",
          "iopub.execute_input": "2022-02-07T13:50:16.887184Z",
          "iopub.status.idle": "2022-02-07T13:50:16.892010Z",
          "shell.execute_reply.started": "2022-02-07T13:50:16.887153Z",
          "shell.execute_reply": "2022-02-07T13:50:16.891119Z"
        },
        "trusted": true,
        "id": "IPLpJiQTCGG7"
      },
      "execution_count": null,
      "outputs": []
    },
    {
      "cell_type": "code",
      "source": [
        "histogram(x=\"Conductivity\")"
      ],
      "metadata": {
        "execution": {
          "iopub.status.busy": "2022-02-07T13:50:22.643466Z",
          "iopub.execute_input": "2022-02-07T13:50:22.643819Z",
          "iopub.status.idle": "2022-02-07T13:50:22.781447Z",
          "shell.execute_reply.started": "2022-02-07T13:50:22.643785Z",
          "shell.execute_reply": "2022-02-07T13:50:22.780410Z"
        },
        "trusted": true,
        "id": "rG-AxCbACGG8"
      },
      "execution_count": null,
      "outputs": []
    },
    {
      "cell_type": "code",
      "source": [
        "histogram(x=\"Organic_carbon\")"
      ],
      "metadata": {
        "execution": {
          "iopub.status.busy": "2022-02-07T13:50:31.321638Z",
          "iopub.execute_input": "2022-02-07T13:50:31.321945Z",
          "iopub.status.idle": "2022-02-07T13:50:31.508790Z",
          "shell.execute_reply.started": "2022-02-07T13:50:31.321912Z",
          "shell.execute_reply": "2022-02-07T13:50:31.507699Z"
        },
        "trusted": true,
        "id": "zKj0atFHCGG-"
      },
      "execution_count": null,
      "outputs": []
    },
    {
      "cell_type": "code",
      "source": [
        "#simple plot\n",
        "sns.kdeplot(data=data_v1, x='Organic_carbon')\n",
        "plt.show()"
      ],
      "metadata": {
        "execution": {
          "iopub.status.busy": "2022-02-07T13:54:02.857506Z",
          "iopub.execute_input": "2022-02-07T13:54:02.857852Z",
          "iopub.status.idle": "2022-02-07T13:54:03.069657Z",
          "shell.execute_reply.started": "2022-02-07T13:54:02.857811Z",
          "shell.execute_reply": "2022-02-07T13:54:03.068651Z"
        },
        "trusted": true,
        "id": "kfjcXWRzCGG_"
      },
      "execution_count": null,
      "outputs": []
    },
    {
      "cell_type": "code",
      "source": [
        "# create function to show the density of the data in distribution\n",
        "columns = ['ph', 'Hardness', 'Solids', 'Chloramines', 'Sulfate', 'Conductivity',\n",
        "       'Organic_carbon', 'Trihalomethanes', 'Turbidity']\n",
        "\n",
        "fig, axes = plt.subplots(3, 3, figsize=(12,10))\n",
        "axes = [ax for axes_row in axes for ax in axes_row]\n",
        "\n",
        "for i, col in enumerate(columns):\n",
        "    plot = sns.kdeplot(data=data_v1, x=col, ax=axes[i])\n",
        "plt.tight_layout()"
      ],
      "metadata": {
        "execution": {
          "iopub.status.busy": "2022-02-07T13:56:02.489267Z",
          "iopub.execute_input": "2022-02-07T13:56:02.490046Z",
          "iopub.status.idle": "2022-02-07T13:56:04.137270Z",
          "shell.execute_reply.started": "2022-02-07T13:56:02.489994Z",
          "shell.execute_reply": "2022-02-07T13:56:04.136287Z"
        },
        "trusted": true,
        "id": "4XkRGZgMCGHC"
      },
      "execution_count": null,
      "outputs": []
    },
    {
      "cell_type": "code",
      "source": [
        ""
      ],
      "metadata": {
        "id": "Ff8ygsK9CGHD"
      },
      "execution_count": null,
      "outputs": []
    }
  ]
}