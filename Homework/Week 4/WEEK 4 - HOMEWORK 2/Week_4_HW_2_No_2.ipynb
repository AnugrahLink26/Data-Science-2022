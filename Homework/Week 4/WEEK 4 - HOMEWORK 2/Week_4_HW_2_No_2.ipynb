{
  "nbformat": 4,
  "nbformat_minor": 0,
  "metadata": {
    "colab": {
      "name": "Week_4_HW_2_No_2.ipynb",
      "provenance": [],
      "collapsed_sections": []
    },
    "kernelspec": {
      "name": "python3",
      "display_name": "Python 3"
    },
    "language_info": {
      "name": "python"
    }
  },
  "cells": [
    {
      "cell_type": "code",
      "source": [
        "n = 1\n",
        "count_prime = 1\n",
        "n_prime = 50\n",
        "while(count_prime <= n_prime):\n",
        "    count = 0\n",
        "    i = 2\n",
        "    while(i <= n//2):\n",
        "        if(n % i == 0):\n",
        "            count += 1\n",
        "            break\n",
        "        i += 1\n",
        "    if (count == 0 and n!= 1):\n",
        "        print(n)\n",
        "        count_prime += 1\n",
        "    n += 1"
      ],
      "metadata": {
        "id": "y7yleupKrC8_",
        "outputId": "10c6ffbe-0712-429b-a8a8-5313de688c94",
        "colab": {
          "base_uri": "https://localhost:8080/"
        }
      },
      "execution_count": null,
      "outputs": [
        {
          "output_type": "stream",
          "name": "stdout",
          "text": [
            "2\n",
            "3\n",
            "5\n",
            "7\n",
            "11\n",
            "13\n",
            "17\n",
            "19\n",
            "23\n",
            "29\n",
            "31\n",
            "37\n",
            "41\n",
            "43\n",
            "47\n",
            "53\n",
            "59\n",
            "61\n",
            "67\n",
            "71\n",
            "73\n",
            "79\n",
            "83\n",
            "89\n",
            "97\n",
            "101\n",
            "103\n",
            "107\n",
            "109\n",
            "113\n",
            "127\n",
            "131\n",
            "137\n",
            "139\n",
            "149\n",
            "151\n",
            "157\n",
            "163\n",
            "167\n",
            "173\n",
            "179\n",
            "181\n",
            "191\n",
            "193\n",
            "197\n",
            "199\n",
            "211\n",
            "223\n",
            "227\n",
            "229\n"
          ]
        }
      ]
    }
  ]
}