{
  "nbformat": 4,
  "nbformat_minor": 0,
  "metadata": {
    "colab": {
      "name": "Week_4_HW_2_No_1.ipynb",
      "provenance": [],
      "collapsed_sections": []
    },
    "kernelspec": {
      "name": "python3",
      "display_name": "Python 3"
    },
    "language_info": {
      "name": "python"
    }
  },
  "cells": [
    {
      "cell_type": "code",
      "source": [
        "n = 100\n",
        "n1, n2 = 0, 1\n",
        "count = 0\n",
        "\n",
        "while n1 <= n:\n",
        "    if n1 >= 1:\n",
        "      print(n1)\n",
        "    \n",
        "    fibonacci = n1 + n2\n",
        "    n1 = n2\n",
        "    n2 = fibonacci\n",
        "    count += 1"
      ],
      "metadata": {
        "colab": {
          "base_uri": "https://localhost:8080/"
        },
        "id": "JYoZdwealFBG",
        "outputId": "1a17432b-0faf-4236-e03e-c14bfc45ea12"
      },
      "execution_count": null,
      "outputs": [
        {
          "output_type": "stream",
          "name": "stdout",
          "text": [
            "1\n",
            "1\n",
            "2\n",
            "3\n",
            "5\n",
            "8\n",
            "13\n",
            "21\n",
            "34\n",
            "55\n",
            "89\n"
          ]
        }
      ]
    }
  ]
}