{
  "nbformat": 4,
  "nbformat_minor": 0,
  "metadata": {
    "colab": {
      "name": "Week_4_HW_1.ipynb",
      "provenance": [],
      "collapsed_sections": []
    },
    "kernelspec": {
      "name": "python3",
      "display_name": "Python 3"
    },
    "language_info": {
      "name": "python"
    }
  },
  "cells": [
    {
      "cell_type": "code",
      "execution_count": null,
      "metadata": {
        "colab": {
          "base_uri": "https://localhost:8080/"
        },
        "id": "QeNzmRpB6FCn",
        "outputId": "4d27592c-62f1-4750-f9eb-5ece30a74f15"
      },
      "outputs": [
        {
          "output_type": "stream",
          "name": "stdout",
          "text": [
            "Sewaktu sekolah,  Anugrah  menggunakan celana panjang berwarna abu\n"
          ]
        }
      ],
      "source": [
        "name = \"Anugrah\"\n",
        "gender = \"Man\"\n",
        "\n",
        "if gender == \"Man\":\n",
        "    print(\"Sewaktu sekolah, \", name, \" menggunakan celana panjang berwarna abu\")\n",
        "else:\n",
        "    print(\"Sewaktu sekolah, \", name, \" menggunakan rok berwarna abu\")"
      ]
    }
  ]
}