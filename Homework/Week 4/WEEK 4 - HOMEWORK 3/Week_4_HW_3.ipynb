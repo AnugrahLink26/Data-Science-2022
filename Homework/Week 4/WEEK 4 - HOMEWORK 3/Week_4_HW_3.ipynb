{
  "nbformat": 4,
  "nbformat_minor": 0,
  "metadata": {
    "colab": {
      "name": "Week_4_HW_3.ipynb",
      "provenance": [],
      "collapsed_sections": []
    },
    "kernelspec": {
      "name": "python3",
      "display_name": "Python 3"
    },
    "language_info": {
      "name": "python"
    }
  },
  "cells": [
    {
      "cell_type": "code",
      "source": [
        "import random\n",
        "input_list= [random.randrange(1, 50, 1) for i in range(10)]\n",
        "wanted_list = []\n",
        "\n",
        "for i in input_list:\n",
        "  if i not in (5,6):\n",
        "    wanted_list.append(i)\n",
        "    a = sum(wanted_list)\n",
        "\n",
        "print(\"input_list =\", input_list, \"-> Sum kecuali angka 5 & 6 =\", a)"
      ],
      "metadata": {
        "colab": {
          "base_uri": "https://localhost:8080/"
        },
        "id": "yDIHghcSXNyr",
        "outputId": "e1a5c3ae-a77f-4f61-9748-cf1a981fe0d0"
      },
      "execution_count": null,
      "outputs": [
        {
          "output_type": "stream",
          "name": "stdout",
          "text": [
            "input_list = [48, 5, 31, 24, 6, 4, 48, 1, 4, 46] -> Sum kecuali angka 5 & 6 = 206\n",
            "217\n"
          ]
        }
      ]
    }
  ]
}