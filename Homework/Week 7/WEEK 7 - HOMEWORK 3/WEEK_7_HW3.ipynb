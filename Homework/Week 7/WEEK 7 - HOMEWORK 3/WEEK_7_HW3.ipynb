{
  "nbformat": 4,
  "nbformat_minor": 0,
  "metadata": {
    "colab": {
      "name": "WEEK_7-HW3.ipynb",
      "provenance": [],
      "collapsed_sections": []
    },
    "kernelspec": {
      "name": "python3",
      "display_name": "Python 3"
    },
    "language_info": {
      "name": "python"
    }
  },
  "cells": [
    {
      "cell_type": "code",
      "source": [
        "# Import Library\n",
        "import pandas as pd"
      ],
      "metadata": {
        "id": "CdR84ir7fdhx"
      },
      "execution_count": null,
      "outputs": []
    },
    {
      "cell_type": "markdown",
      "source": [
        "# CREATE"
      ],
      "metadata": {
        "id": "AydnE4RuIQaZ"
      }
    },
    {
      "cell_type": "code",
      "source": [
        "#Create a dictionary\n",
        "series1 = pd.Series(['Iphone', 'Advan Tab Sketsa 2', 'Lenovo Ideapad Slim 3'], \n",
        "                    index=['0','1','2'])\n",
        "series2 = pd.Series(['Handphone', 'Tablet', 'Laptop'],\n",
        "                    index=['0','1','2'])\n",
        "series3 = pd.Series([13000000, 3000000, 6500000],\n",
        "                    index=['0','1','2'])\n",
        "series4 = pd.Series(['Jakarta', 'Bandung', 'Bandung'],\n",
        "                    index=['0','1','2'])\n",
        "\n",
        "# Create DataFrame\n",
        "df = pd.DataFrame({'Name':series1, 'Category':series2, \n",
        "                   'Price':series3, 'Location':series4})\n",
        "\n",
        "# Print the output.\n",
        "print(df)"
      ],
      "metadata": {
        "colab": {
          "base_uri": "https://localhost:8080/"
        },
        "id": "00sxm4irEFQd",
        "outputId": "aaccdef8-afef-418a-80f4-5184fa8d7672"
      },
      "execution_count": null,
      "outputs": [
        {
          "output_type": "stream",
          "name": "stdout",
          "text": [
            "                    Name   Category     Price Location\n",
            "0                 Iphone  Handphone  13000000  Jakarta\n",
            "1     Advan Tab Sketsa 2     Tablet   3000000  Bandung\n",
            "2  Lenovo Ideapad Slim 3     Laptop   6500000  Bandung\n"
          ]
        }
      ]
    },
    {
      "cell_type": "markdown",
      "source": [
        "# READ"
      ],
      "metadata": {
        "id": "fMMHYZkjITnW"
      }
    },
    {
      "cell_type": "code",
      "source": [
        "print(df[:'0'])"
      ],
      "metadata": {
        "colab": {
          "base_uri": "https://localhost:8080/"
        },
        "id": "A6ivqjeFHn9h",
        "outputId": "6fb717fa-0be7-47b3-8e41-383a50cf962d"
      },
      "execution_count": null,
      "outputs": [
        {
          "output_type": "stream",
          "name": "stdout",
          "text": [
            "     Name   Category     Price Location\n",
            "0  Iphone  Handphone  13000000  Jakarta\n"
          ]
        }
      ]
    },
    {
      "cell_type": "markdown",
      "source": [
        "# UPDATE"
      ],
      "metadata": {
        "id": "iQztXC6OIWLA"
      }
    },
    {
      "cell_type": "code",
      "source": [
        "series3['0'] = 10000000\n",
        "\n",
        "# Create New DataFrame\n",
        "df = pd.DataFrame({'Name':series1, 'Category':series2, \n",
        "                   'Price':series3, 'Location':series4})\n",
        "\n",
        "# Print the output.\n",
        "print(df)"
      ],
      "metadata": {
        "colab": {
          "base_uri": "https://localhost:8080/"
        },
        "id": "lJ0sm7zXINM_",
        "outputId": "4937f295-1a09-47ae-f533-7eed69b25627"
      },
      "execution_count": null,
      "outputs": [
        {
          "output_type": "stream",
          "name": "stdout",
          "text": [
            "                    Name   Category     Price Location\n",
            "0                 Iphone  Handphone  10000000  Jakarta\n",
            "1     Advan Tab Sketsa 2     Tablet   3000000  Bandung\n",
            "2  Lenovo Ideapad Slim 3     Laptop   6500000  Bandung\n"
          ]
        }
      ]
    },
    {
      "cell_type": "markdown",
      "source": [
        "# DELETE"
      ],
      "metadata": {
        "id": "SNcqgqhL4cAE"
      }
    },
    {
      "cell_type": "code",
      "source": [
        "del series1['1']\n",
        "del series2['1']\n",
        "del series3['1']\n",
        "del series4['1']\n",
        "\n",
        "# Create New DataFrame\n",
        "df = pd.DataFrame({'Name':series1, 'Category':series2, \n",
        "                   'Price':series3, 'Location':series4})\n",
        "\n",
        "print(df)"
      ],
      "metadata": {
        "colab": {
          "base_uri": "https://localhost:8080/"
        },
        "id": "YrhJ-31K4bHz",
        "outputId": "4e56cf89-9e85-48d8-bc4d-cb5d5f50fb2c"
      },
      "execution_count": null,
      "outputs": [
        {
          "output_type": "stream",
          "name": "stdout",
          "text": [
            "                    Name   Category     Price Location\n",
            "0                 Iphone  Handphone  10000000  Jakarta\n",
            "2  Lenovo Ideapad Slim 3     Laptop   6500000  Bandung\n"
          ]
        }
      ]
    }
  ]
}