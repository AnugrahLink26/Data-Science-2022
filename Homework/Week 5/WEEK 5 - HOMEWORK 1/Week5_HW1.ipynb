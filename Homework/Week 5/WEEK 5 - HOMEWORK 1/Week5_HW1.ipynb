{
  "nbformat": 4,
  "nbformat_minor": 0,
  "metadata": {
    "colab": {
      "name": "Week5-HW1.ipynb",
      "provenance": [],
      "collapsed_sections": []
    },
    "kernelspec": {
      "name": "python3",
      "display_name": "Python 3"
    },
    "language_info": {
      "name": "python"
    }
  },
  "cells": [
    {
      "cell_type": "code",
      "source": [
        "import random\n",
        "n = random.randrange(1, 10000, 1)\n",
        "print(\"Bilangan input :\", n)\n",
        "\n",
        "def palindrome(n):\n",
        "  number = n\n",
        "  reverse = 0\n",
        "  while n > 0 :\n",
        "    digit = n % 10\n",
        "    reverse = reverse*10 + digit\n",
        "    n = n // 10\n",
        "  if(number == reverse):\n",
        "    return True\n",
        "  else:\n",
        "    return False\n",
        "\n",
        "if palindrome(n):\n",
        "    print(\"Bilangan input merupakan bilangan palindrom\")\n",
        "else:\n",
        "    print(\"Bilangan input bukan merupakan bilangan palindrom\")"
      ],
      "metadata": {
        "colab": {
          "base_uri": "https://localhost:8080/"
        },
        "id": "SX2LlitJYsV1",
        "outputId": "9eaba0fe-a8f1-4056-ad46-ff91b99456bc"
      },
      "execution_count": null,
      "outputs": [
        {
          "output_type": "stream",
          "name": "stdout",
          "text": [
            "Bilangan input : 1221\n",
            "Bilangan input merupakan bilangan palindrom\n"
          ]
        }
      ]
    }
  ]
}